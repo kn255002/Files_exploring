{
 "cells": [
  {
   "cell_type": "code",
   "execution_count": 4,
   "metadata": {
    "scrolled": false
   },
   "outputs": [
    {
     "name": "stdout",
     "output_type": "stream",
     "text": [
      "Data file written: C:/Users/khurr/Documents/GitHub/Files_exploring/Data/file-1\n",
      "\n",
      "Exiting!\n"
     ]
    }
   ],
   "source": [
    "import glob, os\n",
    "import csv\n",
    "import numpy as npa\n",
    "#\n",
    "#\n",
    "def Analyze_dir(T_dir):\n",
    "    f_lst=[]\n",
    "    os.chdir(T_dir)\n",
    "    for i in glob.glob(\"*.txt\"):\n",
    "        f_lst.append(i)\n",
    "    return f_lst\n",
    "###\n",
    "def nparse_file(filepath):\n",
    "    lst=[]\n",
    "    with open(filepath, mode=\"r\", encoding=None) as fl:\n",
    "        next(fl)\n",
    "        #next(fl)      #Removing rows in data files.\n",
    "        for r in fl:\n",
    "            lst+=r.splitlines()\n",
    "        fl.close()\n",
    "    for i in range(len(lst)-1):\n",
    "        lst[i]=lst[i].split()\n",
    "    #colheader=[\"col1\",\"col2\"]   \n",
    "    with open(filepath.replace(\".txt\",\"\")+'.csv', mode='w',newline='') as csv_file:\n",
    "        csv_writer=csv.writer(csv_file,delimiter=',')   \n",
    "        #csv_writer.writerow(colheader)   #Write my own columns.\n",
    "        for i in range(len(lst)-1):    \n",
    "            csv_writer.writerow([lst[i][0],lst[i][5]])\n",
    "        print(\"Data file written:\",filepath.replace(\".txt\",\"\"))\n",
    "\n",
    "###\n",
    "dirpath=\"C:/Users/khurr/Documents/GitHub/Files_exploring/Data/\"\n",
    "TXT_Files=Analyze_dir(dirpath)\n",
    "for df in TXT_Files:\n",
    "    nparse_file(dirpath+df)\n",
    "\n",
    "print(\"\\nExiting!\")"
   ]
  },
  {
   "cell_type": "code",
   "execution_count": null,
   "metadata": {},
   "outputs": [],
   "source": []
  },
  {
   "cell_type": "code",
   "execution_count": null,
   "metadata": {},
   "outputs": [],
   "source": []
  },
  {
   "cell_type": "code",
   "execution_count": null,
   "metadata": {},
   "outputs": [],
   "source": []
  }
 ],
 "metadata": {
  "kernelspec": {
   "display_name": "Python 3",
   "language": "python",
   "name": "python3"
  },
  "language_info": {
   "codemirror_mode": {
    "name": "ipython",
    "version": 3
   },
   "file_extension": ".py",
   "mimetype": "text/x-python",
   "name": "python",
   "nbconvert_exporter": "python",
   "pygments_lexer": "ipython3",
   "version": "3.8.5"
  }
 },
 "nbformat": 4,
 "nbformat_minor": 4
}
