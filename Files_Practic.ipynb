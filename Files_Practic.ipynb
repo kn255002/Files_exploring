{
 "cells": [
  {
   "cell_type": "code",
   "execution_count": 3,
   "metadata": {},
   "outputs": [
    {
     "name": "stdout",
     "output_type": "stream",
     "text": [
      "Writing datafile: file-1.txt\n",
      "            0                    1\n",
      "0  !FREQ       MAg                \n",
      "1   1.699005   -0.355734737373361 \n",
      "2   1.69801    -0.513016819376376 \n",
      "Writing datafile: file-2.txt\n",
      "            0                    1\n",
      "0  !FREQ       MAg                \n",
      "1   2.699005   -0.355734737373361 \n",
      "2   2.69801    -0.513016819376376 \n",
      "Writing datafile: file-3.txt\n",
      "            0                    1\n",
      "0  !FREQ       MAg                \n",
      "1   3.699005   -0.355734737373361 \n",
      "2   3.69801    -0.513016819376376 \n",
      "3   3.69602    -0.860317479762766 \n",
      "4   3.695025   -0.987662009105059 \n",
      "Writing datafile: file-4.txt\n",
      "            0                    1\n",
      "0  !FREQ       MAg                \n",
      "1   4.699005   -0.355734737373361 \n",
      "2   4.69801    -0.513016819376376 \n",
      "Writing datafile: file-5.txt\n",
      "            0                    1\n",
      "0  !FREQ       MAg                \n",
      "1   5.699005   -0.355734737373361 \n",
      "2   5.69801    -0.513016819376376 \n",
      "Writing datafile: file-6.txt\n",
      "            0                    1\n",
      "0  !FREQ       MAg                \n",
      "1   6.699005   -0.355734737373361 \n",
      "2   6.69801    -0.513016819376376 \n",
      "Ending!\n"
     ]
    }
   ],
   "source": [
    "import pandas as pd\n",
    "import glob, os\n",
    "import csv\n",
    "#\n",
    "#\n",
    "diesecol = [(0,10),(88,107)] \n",
    "def Analyze_dir():\n",
    "    f_lst=[]\n",
    "    os.chdir(\"C:/Users/khurr/Documents/GitHub/Files_exploring/Data/\")\n",
    "    for i in glob.glob(\"*.txt\"):\n",
    "        f_lst.append(i)\n",
    "    return f_lst      \n",
    "TXT_Files=Analyze_dir()\n",
    "for file_i in TXT_Files:\n",
    "    df_file_i = pd.read_fwf('C:/Users/khurr/Documents/GitHub/Files_exploring/Data/'+file_i,delim_whitespace=True,colspecs=diesecol,header=None)\n",
    "    print(\"Writing datafile:\",file_i)\n",
    "    with open('C:/Users/khurr/Documents/GitHub/Files_exploring/Data/'+file_i+'.csv', mode='a') as csv_file:\n",
    "        csv_writer=csv.writer(csv_file, delimiter='\\n', quotechar='\"', quoting=csv.QUOTE_MINIMAL)\n",
    "        csv_writer.writerow(df_file_i[0])\n",
    "        csv_writer.writerow(df_file_i[1])\n",
    "    print(df_file_i)\n",
    "    \n",
    "\n",
    "print(\"Ending!\")"
   ]
  },
  {
   "cell_type": "code",
   "execution_count": null,
   "metadata": {},
   "outputs": [],
   "source": []
  }
 ],
 "metadata": {
  "kernelspec": {
   "display_name": "Python 3",
   "language": "python",
   "name": "python3"
  },
  "language_info": {
   "codemirror_mode": {
    "name": "ipython",
    "version": 3
   },
   "file_extension": ".py",
   "mimetype": "text/x-python",
   "name": "python",
   "nbconvert_exporter": "python",
   "pygments_lexer": "ipython3",
   "version": "3.8.5"
  }
 },
 "nbformat": 4,
 "nbformat_minor": 4
}
